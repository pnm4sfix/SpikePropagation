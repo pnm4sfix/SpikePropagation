{
 "cells": [
  {
   "cell_type": "code",
   "execution_count": 2,
   "metadata": {},
   "outputs": [],
   "source": [
    "from matplotlib import pyplot as plt\n",
    "import numpy as np\n",
    "import pandas as pd\n",
    "import seaborn as sns\n",
    "\n",
    "#import h5py\n",
    "\n",
    "import matplotlib as mpl\n",
    "\n",
    "import sa_core as sa\n",
    "\n",
    "\n",
    "from matplotlib import pyplot as plt\n",
    "import numpy as np\n",
    "import pandas as pd\n",
    "import seaborn as sns\n",
    "from scipy.optimize import curve_fit\n",
    "from scipy.signal import find_peaks, find_peaks_cwt, peak_widths, peak_prominences\n",
    "from scipy.signal import welch\n",
    "from scipy.signal import butter, filtfilt\n",
    "from scipy import signal\n",
    "from scipy.stats import linregress\n",
    "import scipy.io as sio\n",
    "import scipy\n",
    "import time as tt\n",
    "#import h5py\n",
    "import os\n",
    "import neo\n",
    "from tqdm import tqdm\n",
    "import matplotlib as mpl\n",
    "from neo.io.neomatlabio import NeoMatlabIO\n",
    "import quantities as pq\n",
    "from sklearn.preprocessing import StandardScaler\n",
    "from sklearn.cluster import KMeans\n",
    "from itertools import cycle, islice\n",
    "from pandas.plotting import parallel_coordinates\n",
    "from sklearn.decomposition import PCA\n",
    "from sklearn.discriminant_analysis import LinearDiscriminantAnalysis as LDA\n",
    "from scipy import stats, spatial, cluster\n",
    "from tkinter import filedialog\n",
    "from tkinter import Tk\n",
    "import elephant\n",
    "from scipy.stats import gaussian_kde\n",
    "from scipy.ndimage import gaussian_filter1d\n",
    "import elephant.signal_processing as elsig\n",
    "import elephant.statistics as el #isi, cv, mean_firing_rate, instantaneous_rate, complexity_pdf\n",
    "from elephant.spike_train_correlation import spike_time_tiling_coefficient\n",
    "from elephant.spike_train_dissimilarity import van_rossum_dist, victor_purpura_dist\n",
    "from elephant.spike_train_generation import homogeneous_poisson_process\n",
    "from scipy.signal import correlate\n",
    "import datetime\n",
    "import gc\n",
    "import re\n",
    "from numba.typed import List\n",
    "from numba import njit"
   ]
  },
  {
   "cell_type": "code",
   "execution_count": 312,
   "metadata": {},
   "outputs": [],
   "source": [
    "data_dict = {}\n"
   ]
  },
  {
   "cell_type": "code",
   "execution_count": 313,
   "metadata": {},
   "outputs": [
    {
     "data": {
      "text/plain": [
       "array([  5,  25,  45,  65,  85, 105])"
      ]
     },
     "execution_count": 313,
     "metadata": {},
     "output_type": "execute_result"
    }
   ],
   "source": [
    "freqs = np.arange(5, 110, 20)\n",
    "freqs"
   ]
  },
  {
   "cell_type": "code",
   "execution_count": 412,
   "metadata": {},
   "outputs": [],
   "source": [
    "freq = freqs[4]\n",
    "st1 = homogeneous_poisson_process(rate = freq*pq.Hz, t_start = 0*pq.s, t_stop = 10*pq.s)"
   ]
  },
  {
   "cell_type": "code",
   "execution_count": 413,
   "metadata": {},
   "outputs": [
    {
     "data": {
      "text/plain": [
       "SpikeTrain"
      ]
     },
     "execution_count": 413,
     "metadata": {},
     "output_type": "execute_result"
    }
   ],
   "source": [
    "st"
   ]
  },
  {
   "cell_type": "code",
   "execution_count": 414,
   "metadata": {},
   "outputs": [],
   "source": [
    "alpha_vel = 100\n",
    "beta_vel = 50\n",
    "delta_vel = 20\n",
    "c_vel = 1\n",
    "delete = False\n",
    "jitter = True\n",
    "distance = 1.5e-2"
   ]
  },
  {
   "cell_type": "code",
   "execution_count": 415,
   "metadata": {},
   "outputs": [
    {
     "name": "stderr",
     "output_type": "stream",
     "text": [
      "<ipython-input-415-eaf96ebcca69>:13: DeprecationWarning: The default dtype for empty Series will be 'object' instead of 'float64' in a future version. Specify a dtype explicitly to silence this warning.\n",
      "  series_label = pd.Series()\n",
      "C:\\Users\\pierc\\Anaconda3\\envs\\spikeanalysis3\\lib\\site-packages\\elephant\\statistics.py:139: UserWarning: ISI evaluated to negative values. Please sort the input array.\n",
      "  warnings.warn(\"ISI evaluated to negative values. \"\n"
     ]
    }
   ],
   "source": [
    "alpha_lat, beta_lat, delta_lat, c_lat = (distance/np.array([alpha_vel, beta_vel, delta_vel, c_vel]))*pq.s\n",
    "\n",
    "new_st = st1\n",
    "\n",
    "df = pd.DataFrame({\"st1\": pd.Series(new_st.times), \"st2\": pd.Series(new_st.times)}, dtype = \"float64\")\n",
    "\n",
    "alpha1 = df.iloc[::4, 0]\n",
    "beta1 = df.iloc[1::4, 0]\n",
    "delta1 = df.iloc[2::4, 0]\n",
    "c1 = df.iloc[3::4, 0]\n",
    "\n",
    "labels = {\"alpha\":alpha1, \"beta\":beta1, \"delta\":delta1, \"c\":c1}\n",
    "series_label = pd.Series()\n",
    "for k, v in labels.items():\n",
    "    label_series = pd.Series([k]*v.shape[0], index=v.index)\n",
    "    series_label = pd.concat([series_label, label_series])\n",
    "\n",
    "df[\"st1_label\"] = series_label\n",
    "\"\"\"Jitter and reorder entire df after initial label has been assigned\"\"\"\n",
    "if jitter == True:\n",
    "    df.st1_label = np.random.permutation(df.st1_label)\n",
    "\n",
    "alpha1 = df.loc[df.st1_label == \"alpha\", \"st2\"]\n",
    "beta1 = df.loc[df.st1_label == \"beta\", \"st2\"]\n",
    "delta1 = df.loc[df.st1_label == \"delta\", \"st2\"]\n",
    "c1 = df.loc[df.st1_label == \"c\", \"st2\"]\n",
    "\n",
    "alpha2 = df.loc[df.st1_label == \"alpha\", \"st2\"]\n",
    "beta2 = df.loc[df.st1_label == \"beta\", \"st2\"]\n",
    "delta2 = df.loc[df.st1_label == \"delta\", \"st2\"]\n",
    "c2 = df.loc[df.st1_label == \"c\", \"st2\"]\n",
    "\n",
    "df.loc[df.st1_label == \"alpha\", \"st2\"], slow_a  = sa.shift_time(alpha2, alpha_lat)\n",
    "df.loc[df.st1_label == \"beta\", \"st2\"], slow_b = sa.shift_time(beta2, beta_lat)\n",
    "df.loc[df.st1_label == \"delta\", \"st2\"], slow_d = sa.shift_time(delta2, delta_lat)\n",
    "df.loc[df.st1_label == \"c\", \"st2\"], slow_c = sa.shift_time(c2, c_lat)\n",
    "\n",
    "df[\"st1_isi\"] = pd.Series(el.isi(df.iloc[:, 0]))\n",
    "df[\"st2_isi\"] = pd.Series(el.isi(df.iloc[:, 1]))"
   ]
  },
  {
   "cell_type": "code",
   "execution_count": 416,
   "metadata": {},
   "outputs": [
    {
     "data": {
      "text/html": [
       "<div>\n",
       "<style scoped>\n",
       "    .dataframe tbody tr th:only-of-type {\n",
       "        vertical-align: middle;\n",
       "    }\n",
       "\n",
       "    .dataframe tbody tr th {\n",
       "        vertical-align: top;\n",
       "    }\n",
       "\n",
       "    .dataframe thead th {\n",
       "        text-align: right;\n",
       "    }\n",
       "</style>\n",
       "<table border=\"1\" class=\"dataframe\">\n",
       "  <thead>\n",
       "    <tr style=\"text-align: right;\">\n",
       "      <th></th>\n",
       "      <th>st1</th>\n",
       "      <th>st2</th>\n",
       "      <th>st1_label</th>\n",
       "      <th>st1_isi</th>\n",
       "      <th>st2_isi</th>\n",
       "    </tr>\n",
       "  </thead>\n",
       "  <tbody>\n",
       "    <tr>\n",
       "      <th>0</th>\n",
       "      <td>0.003656</td>\n",
       "      <td>0.004223</td>\n",
       "      <td>delta</td>\n",
       "      <td>0.001648</td>\n",
       "      <td>0.018258</td>\n",
       "    </tr>\n",
       "    <tr>\n",
       "      <th>1</th>\n",
       "      <td>0.005304</td>\n",
       "      <td>0.022481</td>\n",
       "      <td>c</td>\n",
       "      <td>0.019911</td>\n",
       "      <td>0.003472</td>\n",
       "    </tr>\n",
       "    <tr>\n",
       "      <th>2</th>\n",
       "      <td>0.025215</td>\n",
       "      <td>0.025953</td>\n",
       "      <td>delta</td>\n",
       "      <td>0.013131</td>\n",
       "      <td>0.027138</td>\n",
       "    </tr>\n",
       "    <tr>\n",
       "      <th>3</th>\n",
       "      <td>0.038346</td>\n",
       "      <td>0.053091</td>\n",
       "      <td>c</td>\n",
       "      <td>0.005650</td>\n",
       "      <td>-0.008172</td>\n",
       "    </tr>\n",
       "    <tr>\n",
       "      <th>4</th>\n",
       "      <td>0.043997</td>\n",
       "      <td>0.044919</td>\n",
       "      <td>delta</td>\n",
       "      <td>0.029361</td>\n",
       "      <td>0.028742</td>\n",
       "    </tr>\n",
       "    <tr>\n",
       "      <th>...</th>\n",
       "      <td>...</td>\n",
       "      <td>...</td>\n",
       "      <td>...</td>\n",
       "      <td>...</td>\n",
       "      <td>...</td>\n",
       "    </tr>\n",
       "    <tr>\n",
       "      <th>802</th>\n",
       "      <td>9.954627</td>\n",
       "      <td>9.955252</td>\n",
       "      <td>delta</td>\n",
       "      <td>0.008210</td>\n",
       "      <td>0.021580</td>\n",
       "    </tr>\n",
       "    <tr>\n",
       "      <th>803</th>\n",
       "      <td>9.962836</td>\n",
       "      <td>9.976832</td>\n",
       "      <td>c</td>\n",
       "      <td>0.004331</td>\n",
       "      <td>-0.009517</td>\n",
       "    </tr>\n",
       "    <tr>\n",
       "      <th>804</th>\n",
       "      <td>9.967167</td>\n",
       "      <td>9.967315</td>\n",
       "      <td>alpha</td>\n",
       "      <td>0.001899</td>\n",
       "      <td>0.002121</td>\n",
       "    </tr>\n",
       "    <tr>\n",
       "      <th>805</th>\n",
       "      <td>9.969066</td>\n",
       "      <td>9.969436</td>\n",
       "      <td>beta</td>\n",
       "      <td>0.016270</td>\n",
       "      <td>0.016536</td>\n",
       "    </tr>\n",
       "    <tr>\n",
       "      <th>806</th>\n",
       "      <td>9.985335</td>\n",
       "      <td>9.985972</td>\n",
       "      <td>delta</td>\n",
       "      <td>NaN</td>\n",
       "      <td>NaN</td>\n",
       "    </tr>\n",
       "  </tbody>\n",
       "</table>\n",
       "<p>807 rows × 5 columns</p>\n",
       "</div>"
      ],
      "text/plain": [
       "          st1       st2 st1_label   st1_isi   st2_isi\n",
       "0    0.003656  0.004223     delta  0.001648  0.018258\n",
       "1    0.005304  0.022481         c  0.019911  0.003472\n",
       "2    0.025215  0.025953     delta  0.013131  0.027138\n",
       "3    0.038346  0.053091         c  0.005650 -0.008172\n",
       "4    0.043997  0.044919     delta  0.029361  0.028742\n",
       "..        ...       ...       ...       ...       ...\n",
       "802  9.954627  9.955252     delta  0.008210  0.021580\n",
       "803  9.962836  9.976832         c  0.004331 -0.009517\n",
       "804  9.967167  9.967315     alpha  0.001899  0.002121\n",
       "805  9.969066  9.969436      beta  0.016270  0.016536\n",
       "806  9.985335  9.985972     delta       NaN       NaN\n",
       "\n",
       "[807 rows x 5 columns]"
      ]
     },
     "execution_count": 416,
     "metadata": {},
     "output_type": "execute_result"
    }
   ],
   "source": [
    "df"
   ]
  },
  {
   "cell_type": "code",
   "execution_count": 417,
   "metadata": {},
   "outputs": [],
   "source": [
    "try:\n",
    "    new_st = neo.SpikeTrain(df.st2*pq.s, t_stop=new_st.t_stop, units = new_st.units, sampling_rate = new_st.sampling_rate)\n",
    "except:\n",
    "    print(\"st2 > t_stop\")\n",
    "    #df.st2 = df.st2[df.st2<float(new_st.t_stop)]\n",
    "    #new_st = neo.SpikeTrain(df.st2*pq.s, t_stop=new_st.t_stop, units = new_st.units, sampling_rate = new_st.sampling_rate)\n",
    "    new_st = neo.SpikeTrain(df.st2*pq.s, t_stop=(df.st2.iloc[-1]+0.5)*pq.s, units = new_st.units, sampling_rate = new_st.sampling_rate)"
   ]
  },
  {
   "cell_type": "code",
   "execution_count": 418,
   "metadata": {},
   "outputs": [
    {
     "name": "stdout",
     "output_type": "stream",
     "text": [
      "Min_idx length = 807\n",
      "New min_idx length = 807\n"
     ]
    }
   ],
   "source": [
    "if delete>0:\n",
    "    random_indexes = np.random.randint(0, df.st2.shape[0], int(len(new_st)*delete))\n",
    "    new_st=np.delete(new_st, random_indexes)\n",
    "    df.iloc[random_indexes, 1] = np.nan\n",
    "\n",
    "latency, fig = sa.spike_latency(st1, new_st, True, slow_c)\n",
    "latency = latency[latency<slow_c]\n",
    "min_idx = latency.idxmin(axis=0) #this seems to find the min row index (st1) for each column (st2)\n",
    "min_latency = latency.min(axis=0)\n",
    "\n",
    "print(\"Min_idx length = {}\".format(min_idx.shape[0]))\n",
    "na_min_idx = min_idx.dropna()\n",
    "print(\"New min_idx length = {}\".format(na_min_idx.shape[0]))\n",
    "\n",
    "latency_array = np.array(latency)\n",
    "latency_array[np.array(na_min_idx, dtype=\"int64\"), np.array(na_min_idx.index, dtype=\"int64\")] = np.nan\n",
    "\n",
    "\n",
    "second_latency = pd.DataFrame(latency_array)\n",
    "second_min_idx = second_latency.idxmin(axis=0)\n",
    "second_min_lat = second_latency.min(axis=0)\n",
    "\n",
    "min_idx.index = df.st2.dropna().index\n",
    "min_latency.index = df.st2.dropna().index\n",
    "second_min_idx.index = df.st2.dropna().index\n",
    "second_min_lat.index = df.st2.dropna().index\n",
    "\n",
    "df[\"min_idx\"] = min_idx\n",
    "df[\"min_latency\"] = min_latency\n",
    "df[\"2_min_idx\"] = second_min_idx\n",
    "df[\"2_min_lat\"] = second_min_lat\n",
    "\n",
    "df[\"st2_label\"] = df.min_idx.map(df.st1_label)\n",
    "na_df = df[df.st2.notnull()]\n",
    "matches = na_df.st1_label == na_df.st2_label\n",
    "df[\"matches\"] = matches\n",
    "failures = df[df.matches==False].st1_label.value_counts()\n",
    "failures = (failures/df.st1_label.value_counts()) * 100."
   ]
  },
  {
   "cell_type": "code",
   "execution_count": 419,
   "metadata": {},
   "outputs": [
    {
     "name": "stdout",
     "output_type": "stream",
     "text": [
      "(807, 11)\n",
      "(807, 11)\n"
     ]
    }
   ],
   "source": [
    "print(df.shape)\n",
    "df = df[df.st2_label.notnull()]\n",
    "print(df.shape)"
   ]
  },
  {
   "cell_type": "code",
   "execution_count": 420,
   "metadata": {},
   "outputs": [],
   "source": [
    "# compare min_idx with df index"
   ]
  },
  {
   "cell_type": "code",
   "execution_count": 421,
   "metadata": {},
   "outputs": [],
   "source": [
    "from sklearn.metrics import classification_report"
   ]
  },
  {
   "cell_type": "code",
   "execution_count": 422,
   "metadata": {},
   "outputs": [
    {
     "name": "stderr",
     "output_type": "stream",
     "text": [
      "C:\\Users\\pierc\\Anaconda3\\envs\\spikeanalysis3\\lib\\site-packages\\sklearn\\metrics\\_classification.py:1221: UndefinedMetricWarning: Precision and F-score are ill-defined and being set to 0.0 in labels with no predicted samples. Use `zero_division` parameter to control this behavior.\n",
      "  _warn_prf(average, modifier, msg_start, len(result))\n"
     ]
    }
   ],
   "source": [
    "report = classification_report(y_true = df.index, y_pred = df.min_idx, output_dict=True)"
   ]
  },
  {
   "cell_type": "code",
   "execution_count": 423,
   "metadata": {},
   "outputs": [
    {
     "data": {
      "text/plain": [
       "(0.7294506402313095, 0.8042131350681536, 0.7534076827757125)"
      ]
     },
     "execution_count": 423,
     "metadata": {},
     "output_type": "execute_result"
    }
   ],
   "source": [
    "precision = report[\"macro avg\"][\"precision\"]\n",
    "recall = report[\"macro avg\"][\"recall\"]\n",
    "f1_score =report[\"macro avg\"][\"f1-score\"]\n",
    "\n",
    "precision, recall, f1_score"
   ]
  },
  {
   "cell_type": "markdown",
   "metadata": {},
   "source": [
    "### Alternative measure\n"
   ]
  },
  {
   "cell_type": "code",
   "execution_count": 424,
   "metadata": {},
   "outputs": [],
   "source": [
    "from sklearn.metrics import precision_score"
   ]
  },
  {
   "cell_type": "code",
   "execution_count": 425,
   "metadata": {},
   "outputs": [],
   "source": [
    "from sklearn.metrics import confusion_matrix"
   ]
  },
  {
   "cell_type": "code",
   "execution_count": 426,
   "metadata": {},
   "outputs": [],
   "source": [
    "y_true = df.st1_label\n",
    "y_pred = df.st2_label"
   ]
  },
  {
   "cell_type": "code",
   "execution_count": 427,
   "metadata": {},
   "outputs": [],
   "source": [
    "labels = [\"alpha\", \"beta\", \"delta\", \"c\"]"
   ]
  },
  {
   "cell_type": "code",
   "execution_count": 428,
   "metadata": {},
   "outputs": [],
   "source": [
    "cm = confusion_matrix(df.st1_label, df.st2_label, labels = [\"alpha\", \"beta\", \"delta\", \"c\"])"
   ]
  },
  {
   "cell_type": "code",
   "execution_count": 429,
   "metadata": {},
   "outputs": [
    {
     "data": {
      "text/plain": [
       "array([[201,   0,   0,   1],\n",
       "       [  0, 201,   0,   1],\n",
       "       [  3,   4, 188,   7],\n",
       "       [ 30,  37,  32, 102]], dtype=int64)"
      ]
     },
     "execution_count": 429,
     "metadata": {},
     "output_type": "execute_result"
    }
   ],
   "source": [
    "cm"
   ]
  },
  {
   "cell_type": "code",
   "execution_count": 430,
   "metadata": {},
   "outputs": [
    {
     "data": {
      "image/png": "[encoded data removed]",
      "text/plain": [
       "<Figure size 720x504 with 2 Axes>"
      ]
     },
     "metadata": {},
     "output_type": "display_data"
    }
   ],
   "source": [
    "fig, ax = plt.subplots(figsize = (10, 7))\n",
    "sns.heatmap(cm/np.sum(cm, axis=1)*100, fmt =\".3g\" , annot = True, ax=ax)\n",
    "fig.savefig(\"./confusion_matrix_{}Hz_sim.svg\".format(freq))"
   ]
  },
  {
   "cell_type": "code",
   "execution_count": 431,
   "metadata": {},
   "outputs": [],
   "source": [
    "FP = cm.sum(axis=0) - np.diag(cm)  \n",
    "FN = cm.sum(axis=1) - np.diag(cm)\n",
    "TP = np.diag(cm)\n",
    "TN = cm.sum() - (FP + FN + TP)"
   ]
  },
  {
   "cell_type": "code",
   "execution_count": 432,
   "metadata": {},
   "outputs": [
    {
     "data": {
      "text/plain": [
       "(array([33, 41, 32,  9], dtype=int64),\n",
       " array([ 1,  1, 14, 99], dtype=int64),\n",
       " array([201, 201, 188, 102], dtype=int64),\n",
       " array([572, 564, 573, 597], dtype=int64))"
      ]
     },
     "execution_count": 432,
     "metadata": {},
     "output_type": "execute_result"
    }
   ],
   "source": [
    "FP, FN, TP, TN"
   ]
  },
  {
   "cell_type": "code",
   "execution_count": 433,
   "metadata": {},
   "outputs": [
    {
     "data": {
      "text/plain": [
       "(array([0.05454545, 0.0677686 , 0.05289256, 0.01485149]),\n",
       " array([0.0049505 , 0.0049505 , 0.06930693, 0.49253731]))"
      ]
     },
     "execution_count": 433,
     "metadata": {},
     "output_type": "execute_result"
    }
   ],
   "source": [
    "# Fall out or false positive rate\n",
    "FPR = FP/(FP+TN)\n",
    "# False negative rate\n",
    "FNR = FN/(TP+FN)\n",
    "\n",
    "FPR, FNR"
   ]
  },
  {
   "cell_type": "code",
   "execution_count": 434,
   "metadata": {},
   "outputs": [],
   "source": [
    "data_dict[str(freq)] = {\"FPR\" : FPR,\n",
    "                        \"FNR\" : FNR,\n",
    "                        \"Precision\": precision,\n",
    "                        \"Recall\": recall,\n",
    "                        \"F1 Score\": f1_score}"
   ]
  },
  {
   "cell_type": "code",
   "execution_count": 435,
   "metadata": {},
   "outputs": [
    {
     "data": {
      "text/plain": [
       "{'5': {'FPR': array([0.        , 0.02564103, 0.        , 0.        ]),\n",
       "  'FNR': array([0.        , 0.        , 0.        , 0.08333333]),\n",
       "  'Precision': 0.9711538461538461,\n",
       "  'Recall': 0.9807692307692307,\n",
       "  'F1 Score': 0.9743589743589743},\n",
       " '25': {'FPR': array([0.0052356 , 0.02617801, 0.03141361, 0.        ]),\n",
       "  'FNR': array([0.        , 0.        , 0.        , 0.19047619]),\n",
       "  'Precision': 0.9,\n",
       "  'Recall': 0.9333333333333333,\n",
       "  'F1 Score': 0.911111111111111},\n",
       " '45': {'FPR': array([0.04225352, 0.07394366, 0.03521127, 0.01403509]),\n",
       "  'FNR': array([0.01052632, 0.        , 0.06315789, 0.42553191]),\n",
       "  'Precision': 0.8012313104661388,\n",
       "  'Recall': 0.8601583113456465,\n",
       "  'F1 Score': 0.8197009674582234},\n",
       " '65': {'FPR': array([0.04618474, 0.07228916, 0.06827309, 0.00401606]),\n",
       "  'FNR': array([0.01807229, 0.        , 0.03614458, 0.51807229]),\n",
       "  'Precision': 0.7441014056224899,\n",
       "  'Recall': 0.8162650602409639,\n",
       "  'F1 Score': 0.7666666666666666},\n",
       " '85': {'FPR': array([0.05454545, 0.0677686 , 0.05289256, 0.01485149]),\n",
       "  'FNR': array([0.0049505 , 0.0049505 , 0.06930693, 0.49253731]),\n",
       "  'Precision': 0.7294506402313095,\n",
       "  'Recall': 0.8042131350681536,\n",
       "  'F1 Score': 0.7534076827757125}}"
      ]
     },
     "execution_count": 435,
     "metadata": {},
     "output_type": "execute_result"
    }
   ],
   "source": [
    "data_dict"
   ]
  },
  {
   "cell_type": "code",
   "execution_count": 445,
   "metadata": {},
   "outputs": [],
   "source": [
    "core_data_df = pd.DataFrame()\n",
    "for k in data_dict.keys():\n",
    "    data_df = pd.DataFrame(data_dict[k])\n",
    "    data_df[\"Frequency\"] = [k]*data_df.shape[0]\n",
    "    data_df[\"Fibre\"] = labels\n",
    "    core_data_df = pd.concat([core_data_df, data_df])"
   ]
  },
  {
   "cell_type": "code",
   "execution_count": 462,
   "metadata": {},
   "outputs": [],
   "source": [
    "core_data_df.to_csv(\"./simulation_results.csv\")"
   ]
  },
  {
   "cell_type": "code",
   "execution_count": 461,
   "metadata": {},
   "outputs": [
    {
     "data": {
      "text/plain": [
       "array([0.05454545, 0.0677686 , 0.05289256, 0.01485149])"
      ]
     },
     "execution_count": 461,
     "metadata": {},
     "output_type": "execute_result"
    }
   ],
   "source": []
  },
  {
   "cell_type": "code",
   "execution_count": 460,
   "metadata": {},
   "outputs": [
    {
     "data": {
      "image/png": "[encoded data removed]",
      "text/plain": [
       "<Figure size 1440x360 with 4 Axes>"
      ]
     },
     "metadata": {},
     "output_type": "display_data"
    }
   ],
   "source": [
    "FPR_plot = sns.catplot(data = core_data_df, x = \"Frequency\", y= \"FPR\", col = \"Fibre\", kind = \"bar\")\n",
    "[ax.set_ylim(bottom = 0, top = 1) for ax in FPR_plot.axes.ravel()]\n",
    "\n",
    "FPR_plot.fig.savefig(\"./FPR.svg\")"
   ]
  },
  {
   "cell_type": "code",
   "execution_count": 456,
   "metadata": {},
   "outputs": [
    {
     "data": {
      "text/plain": [
       "[(0.0, 1.0), (0.0, 1.0), (0.0, 1.0), (0.0, 1.0)]"
      ]
     },
     "execution_count": 456,
     "metadata": {},
     "output_type": "execute_result"
    },
    {
     "data": {
      "image/png": "[encoded data removed]",
      "text/plain": [
       "<Figure size 1440x360 with 4 Axes>"
      ]
     },
     "metadata": {},
     "output_type": "display_data"
    }
   ],
   "source": [
    "FNR_plot = sns.catplot(data = core_data_df, x = \"Frequency\", y= \"FNR\", col = \"Fibre\", kind = \"bar\")\n",
    "[ax.set_ylim(bottom = 0, top = 1) for ax in FNR_plot.axes.ravel()]"
   ]
  },
  {
   "cell_type": "code",
   "execution_count": 452,
   "metadata": {},
   "outputs": [
    {
     "data": {
      "text/plain": [
       "<matplotlib.axes._subplots.AxesSubplot at 0x1b122bbedf0>"
      ]
     },
     "execution_count": 452,
     "metadata": {},
     "output_type": "execute_result"
    }
   ],
   "source": [
    "FPR_plot.axes.ravel()[0]"
   ]
  },
  {
   "cell_type": "code",
   "execution_count": 387,
   "metadata": {},
   "outputs": [],
   "source": [
    "# for these labels -define where label incorrectly classified\n",
    "                # define where label is "
   ]
  },
  {
   "cell_type": "code",
   "execution_count": 82,
   "metadata": {},
   "outputs": [
    {
     "data": {
      "text/plain": [
       "array([16], dtype=int64)"
      ]
     },
     "execution_count": 82,
     "metadata": {},
     "output_type": "execute_result"
    }
   ],
   "source": [
    "# false negative - where classed as not class"
   ]
  },
  {
   "cell_type": "code",
   "execution_count": 74,
   "metadata": {},
   "outputs": [
    {
     "data": {
      "text/plain": [
       "(Int64Index([  7,   9,  12,  27,  29,  36,  37,  39,  49,  58,  59,  64,  68,\n",
       "              74,  75,  79,  80,  83,  85,  86,  88,  95, 100, 106, 113, 115,\n",
       "             118, 119, 130, 132, 133, 138, 146, 147, 155, 156, 160, 166, 167,\n",
       "             169, 171, 173, 178, 179, 185, 186, 191, 192, 197, 198, 201, 202,\n",
       "             203, 206, 216, 217],\n",
       "            dtype='int64'),\n",
       " 7        7\n",
       " 9        9\n",
       " 12      12\n",
       " 27      27\n",
       " 29      29\n",
       " 36      36\n",
       " 37      37\n",
       " 39      39\n",
       " 49      49\n",
       " 58      58\n",
       " 59      59\n",
       " 64      64\n",
       " 68      68\n",
       " 74      74\n",
       " 75      75\n",
       " 79      79\n",
       " 80      81\n",
       " 83      83\n",
       " 85      85\n",
       " 86      86\n",
       " 88      88\n",
       " 95      95\n",
       " 100    100\n",
       " 106    106\n",
       " 113    113\n",
       " 115    115\n",
       " 118    118\n",
       " 119    119\n",
       " 130    130\n",
       " 132    132\n",
       " 133    133\n",
       " 138    138\n",
       " 146    146\n",
       " 147    147\n",
       " 155    155\n",
       " 156    156\n",
       " 160    160\n",
       " 166    166\n",
       " 167    167\n",
       " 169    169\n",
       " 171    171\n",
       " 173    173\n",
       " 178    178\n",
       " 179    179\n",
       " 185    185\n",
       " 186    186\n",
       " 191    191\n",
       " 192    192\n",
       " 197    197\n",
       " 198    198\n",
       " 201    201\n",
       " 202    202\n",
       " 203    203\n",
       " 206    206\n",
       " 216    216\n",
       " 217    217\n",
       " Name: min_idx, dtype: int64)"
      ]
     },
     "execution_count": 74,
     "metadata": {},
     "output_type": "execute_result"
    }
   ],
   "source": [
    "y_true, y_pred"
   ]
  },
  {
   "cell_type": "code",
   "execution_count": 75,
   "metadata": {},
   "outputs": [
    {
     "name": "stdout",
     "output_type": "stream",
     "text": [
      "              precision    recall  f1-score   support\n",
      "\n",
      "       alpha       0.95      1.00      0.97        57\n",
      "        beta       0.92      1.00      0.96        56\n",
      "           c       1.00      0.80      0.89        56\n",
      "       delta       0.93      0.98      0.96        56\n",
      "\n",
      "    accuracy                           0.95       225\n",
      "   macro avg       0.95      0.95      0.94       225\n",
      "weighted avg       0.95      0.95      0.94       225\n",
      "\n"
     ]
    }
   ],
   "source": [
    "label_report = classification_report(y_true = df.st1_label, y_pred = df.st2_label)\n",
    "print(label_report)"
   ]
  },
  {
   "cell_type": "code",
   "execution_count": null,
   "metadata": {},
   "outputs": [],
   "source": []
  }
 ],
 "metadata": {
  "kernelspec": {
   "display_name": "Python 3",
   "language": "python",
   "name": "python3"
  },
  "language_info": {
   "codemirror_mode": {
    "name": "ipython",
    "version": 3
   },
   "file_extension": ".py",
   "mimetype": "text/x-python",
   "name": "python",
   "nbconvert_exporter": "python",
   "pygments_lexer": "ipython3",
   "version": "3.8.5"
  }
 },
 "nbformat": 4,
 "nbformat_minor": 4
}
